{
 "cells": [
  {
   "cell_type": "markdown",
   "metadata": {
    "colab_type": "text",
    "id": "r8Gbg1qrQg2D"
   },
   "source": [
    "##  Product Reviews and Ratings Analysis"
   ]
  },
  {
   "cell_type": "markdown",
   "metadata": {},
   "source": [
    "This Project is an application of Bag of Words, Principal Component Analysis and Logistic Regression. The end goal is to predict product ratings from review text."
   ]
  },
  {
   "cell_type": "markdown",
   "metadata": {},
   "source": [
    "#### Bag of Words \n",
    "Bag of Words (BOW) is a way of extracting features from text for use in modeling, such as with machine learning algorithms. It is a representation of text that describes the occurrence of words within a document. It involves two things: 1. A vocabulary of known words. 2. A measure of the presence of known words. "
   ]
  },
  {
   "cell_type": "markdown",
   "metadata": {},
   "source": [
    "#### About Project\n",
    "This project consists of 4 parts.\n",
    "- Part 1: Create a bag-of-word vector representation for each review\n",
    "- Part 2: Run a PCA (Principal component analysis) and graph the first two PCs for the first 100 reviews.\n",
    "- Part 3: Use logistic regression to predict the rating (5 levels) of a product.\n",
    "- Data is from ecommerce website and consists of:\n",
    "<br> - reviewerID\n",
    "<br> - asin (ID of the product) \n",
    "<br> - reviewerName\n",
    "<br> - helpful (helpfulness rating of the review, e.g. 2 out of 3 people found the review to be helpful. The dataframe below would have 2 in the helpful_start column and 3 in the helpful_end column)\n",
    "<br> - overall (rating of the product)\n",
    "<br> - summary (summary of the review) \n",
    "<br> - unixReviewTime (time of the review)"
   ]
  },
  {
   "cell_type": "code",
   "execution_count": 64,
   "metadata": {
    "colab": {},
    "colab_type": "code",
    "id": "tTem4dCv7nSv"
   },
   "outputs": [],
   "source": [
    "# load packages\n",
    "import io\n",
    "import ijson\n",
    "import pandas as pd\n",
    "import datetime\n",
    "import nltk\n",
    "import re\n",
    "import textblob\n",
    "import string\n",
    "import numpy as np\n",
    "import scipy.spatial.distance as scipydist\n",
    "import matplotlib.pyplot as plt\n",
    "import itertools  \n",
    "from sklearn.linear_model import LogisticRegression\n",
    "from sklearn.feature_extraction.text import CountVectorizer\n",
    "from nltk.stem import PorterStemmer\n",
    "from tqdm import tqdm\n",
    "from tqdm._tqdm import trange\n",
    "from spellchecker import SpellChecker\n",
    "from autocorrect import Speller\n",
    "from nltk.corpus import stopwords\n",
    "from sklearn.preprocessing import StandardScaler\n",
    "from sklearn.decomposition import PCA\n",
    "from mord import LogisticAT\n",
    "from sklearn import preprocessing\n",
    "from sklearn.model_selection import cross_validate\n",
    "from sklearn.metrics import make_scorer\n",
    "from sklearn.metrics import confusion_matrix\n",
    "from sklearn.model_selection import train_test_split\n",
    "from sklearn.model_selection import GridSearchCV\n",
    "from sklearn.metrics import accuracy_score\n",
    "from sklearn.model_selection import cross_val_score\n",
    "from sklearn.metrics import mean_absolute_error\n",
    "from sklearn.metrics import make_scorer"
   ]
  },
  {
   "cell_type": "code",
   "execution_count": 3,
   "metadata": {
    "colab": {},
    "colab_type": "code",
    "id": "Ly0DYhPCFntn"
   },
   "outputs": [
    {
     "name": "stdout",
     "output_type": "stream",
     "text": [
      "48\n"
     ]
    }
   ],
   "source": [
    "# import data\n",
    "cols = [\"reviewerID\", \"asin\", \"reviewerName\", \"helpful_start\",\n",
    "        \"helpful_end\", \"reviewText\", \"overall\", \"summary\",\n",
    "        \"unixReviewTime\", \"reviewTime\"]\n",
    "reviewerID = []\n",
    "asin = []\n",
    "reviewerName = []\n",
    "helpful_start = []\n",
    "helpful_end = []\n",
    "reviewText = []\n",
    "overall = []\n",
    "summary = []\n",
    "unixReviewTime = []\n",
    "reviewTime = []\n",
    "helpful = []\n",
    "\n",
    "a = datetime.datetime.now()\n",
    "\n",
    "with open('reviews_electronics.4.json', encoding=\"UTF-8\") as json_file:\n",
    "    cursor = 0\n",
    "    for line_number, line in enumerate(json_file):\n",
    "        #print (\"Processing line\", line_number + 1,\"at cursor index:\", cursor)\n",
    "        line_as_file = io.StringIO(line)\n",
    "        # Use a new parser for each line\n",
    "        json_parser = ijson.parse(line_as_file)\n",
    "        for prefix, type, value in json_parser:\n",
    "            if (type == 'string') | (type == 'number'):\n",
    "                if prefix.strip() == 'reviewerID':\n",
    "                    reviewerID.append(value)\n",
    "                    #print(value)\n",
    "                elif prefix.strip() == 'asin':\n",
    "                    asin.append(value)\n",
    "                elif prefix.strip() == 'reviewerName':\n",
    "                    reviewerName.append(value)\n",
    "                elif prefix.strip() == 'helpful.item':\n",
    "                    helpful.append(value)\n",
    "                elif prefix.strip() == 'reviewText':\n",
    "                    reviewText.append(value)\n",
    "                elif prefix.strip() == 'overall':\n",
    "                    overall.append(value)\n",
    "                elif prefix.strip() == 'summary':\n",
    "                    summary.append(value)\n",
    "                elif prefix.strip() == 'unixReviewTime':\n",
    "                    unixReviewTime.append(value)\n",
    "                elif prefix.strip() == 'reviewTime':\n",
    "                    reviewTime.append(value)\n",
    "        cursor += len(line)\n",
    "\n",
    "        \n",
    "b = datetime.datetime.now()\n",
    "       \n",
    "helpful_start = [helpful[i] for i in range(len(helpful)) if i%2 == 0]\n",
    "helpful_end = [helpful[i] for i in range(len(helpful)) if i%2 == 1]\n",
    "\n",
    "review = pd.DataFrame(list(zip(reviewerID, asin, reviewerName, helpful_start, helpful_end,\n",
    "                           reviewText, overall, summary, unixReviewTime, reviewTime)),\n",
    "               columns =cols)\n",
    "\n",
    "c=b-a\n",
    "print(c.seconds)"
   ]
  },
  {
   "cell_type": "code",
   "execution_count": 45,
   "metadata": {
    "colab": {},
    "colab_type": "code",
    "id": "PE7PWMNEFntw",
    "outputId": "58e5fcfd-9c23-44bc-fcff-b89380515090"
   },
   "outputs": [
    {
     "data": {
      "text/html": [
       "<div>\n",
       "<style scoped>\n",
       "    .dataframe tbody tr th:only-of-type {\n",
       "        vertical-align: middle;\n",
       "    }\n",
       "\n",
       "    .dataframe tbody tr th {\n",
       "        vertical-align: top;\n",
       "    }\n",
       "\n",
       "    .dataframe thead th {\n",
       "        text-align: right;\n",
       "    }\n",
       "</style>\n",
       "<table border=\"1\" class=\"dataframe\">\n",
       "  <thead>\n",
       "    <tr style=\"text-align: right;\">\n",
       "      <th></th>\n",
       "      <th>reviewerID</th>\n",
       "      <th>asin</th>\n",
       "      <th>reviewerName</th>\n",
       "      <th>helpful_start</th>\n",
       "      <th>helpful_end</th>\n",
       "      <th>reviewText</th>\n",
       "      <th>overall</th>\n",
       "      <th>summary</th>\n",
       "      <th>unixReviewTime</th>\n",
       "      <th>reviewTime</th>\n",
       "    </tr>\n",
       "  </thead>\n",
       "  <tbody>\n",
       "    <tr>\n",
       "      <th>0</th>\n",
       "      <td>AKM1MP6P0OYPR</td>\n",
       "      <td>0132793040</td>\n",
       "      <td>Vicki Gibson \"momo4\"</td>\n",
       "      <td>1</td>\n",
       "      <td>1</td>\n",
       "      <td>Corey Barker does a great job of explaining Bl...</td>\n",
       "      <td>5.0</td>\n",
       "      <td>Very thorough</td>\n",
       "      <td>1365811200</td>\n",
       "      <td>04 13, 2013</td>\n",
       "    </tr>\n",
       "    <tr>\n",
       "      <th>1</th>\n",
       "      <td>A22X9YQ3YPRUIJ</td>\n",
       "      <td>B000WW1YVU</td>\n",
       "      <td>T. Nelson</td>\n",
       "      <td>4</td>\n",
       "      <td>4</td>\n",
       "      <td>I live in L.A./Orange County CA area with LOTS...</td>\n",
       "      <td>2.0</td>\n",
       "      <td>Power Boost for Belkin TuneBase FM With Clears...</td>\n",
       "      <td>1202428800</td>\n",
       "      <td>02 8, 2008</td>\n",
       "    </tr>\n",
       "    <tr>\n",
       "      <th>2</th>\n",
       "      <td>A2T0MTHNOFBPQ</td>\n",
       "      <td>B000WW1YVU</td>\n",
       "      <td>Tomy</td>\n",
       "      <td>1</td>\n",
       "      <td>3</td>\n",
       "      <td>I bought this product (I did not buy from amaz...</td>\n",
       "      <td>1.0</td>\n",
       "      <td>I do not recommend to buy this product.</td>\n",
       "      <td>1270425600</td>\n",
       "      <td>04 5, 2010</td>\n",
       "    </tr>\n",
       "    <tr>\n",
       "      <th>3</th>\n",
       "      <td>A3QS4VQPONP1RZ</td>\n",
       "      <td>B000WW1YVU</td>\n",
       "      <td>Tricia</td>\n",
       "      <td>0</td>\n",
       "      <td>0</td>\n",
       "      <td>For years I had a cheaper Belkin TuneBase tran...</td>\n",
       "      <td>3.0</td>\n",
       "      <td>Pricier but not better</td>\n",
       "      <td>1390176000</td>\n",
       "      <td>01 20, 2014</td>\n",
       "    </tr>\n",
       "    <tr>\n",
       "      <th>4</th>\n",
       "      <td>AQFDX78HMJ6DU</td>\n",
       "      <td>B000WW1YVU</td>\n",
       "      <td>TWC42</td>\n",
       "      <td>2</td>\n",
       "      <td>2</td>\n",
       "      <td>There are no clear areas on the FM dial in the...</td>\n",
       "      <td>1.0</td>\n",
       "      <td>No clear channel in DC Metro area</td>\n",
       "      <td>1239321600</td>\n",
       "      <td>04 10, 2009</td>\n",
       "    </tr>\n",
       "  </tbody>\n",
       "</table>\n",
       "</div>"
      ],
      "text/plain": [
       "       reviewerID        asin          reviewerName  helpful_start  \\\n",
       "0   AKM1MP6P0OYPR  0132793040  Vicki Gibson \"momo4\"              1   \n",
       "1  A22X9YQ3YPRUIJ  B000WW1YVU             T. Nelson              4   \n",
       "2   A2T0MTHNOFBPQ  B000WW1YVU                  Tomy              1   \n",
       "3  A3QS4VQPONP1RZ  B000WW1YVU                Tricia              0   \n",
       "4   AQFDX78HMJ6DU  B000WW1YVU                 TWC42              2   \n",
       "\n",
       "   helpful_end                                         reviewText overall  \\\n",
       "0            1  Corey Barker does a great job of explaining Bl...     5.0   \n",
       "1            4  I live in L.A./Orange County CA area with LOTS...     2.0   \n",
       "2            3  I bought this product (I did not buy from amaz...     1.0   \n",
       "3            0  For years I had a cheaper Belkin TuneBase tran...     3.0   \n",
       "4            2  There are no clear areas on the FM dial in the...     1.0   \n",
       "\n",
       "                                             summary  unixReviewTime  \\\n",
       "0                                      Very thorough      1365811200   \n",
       "1  Power Boost for Belkin TuneBase FM With Clears...      1202428800   \n",
       "2            I do not recommend to buy this product.      1270425600   \n",
       "3                             Pricier but not better      1390176000   \n",
       "4                  No clear channel in DC Metro area      1239321600   \n",
       "\n",
       "    reviewTime  \n",
       "0  04 13, 2013  \n",
       "1   02 8, 2008  \n",
       "2   04 5, 2010  \n",
       "3  01 20, 2014  \n",
       "4  04 10, 2009  "
      ]
     },
     "execution_count": 45,
     "metadata": {},
     "output_type": "execute_result"
    }
   ],
   "source": [
    "reviews = review.copy()\n",
    "reviews.head()"
   ]
  },
  {
   "cell_type": "markdown",
   "metadata": {
    "colab_type": "text",
    "id": "lYbDpRU_70B8"
   },
   "source": [
    "#### Part 1\n",
    "#### 1.1 Handle lower/upper case and stopwords\n",
    "- Treat each review as a document. Ignore misspellings. Convert all reviews to lower case. Remove stop words (use package to do this).\n",
    "- Use NLTK's stopwords library. An additional step is added - remove \"not\" and \"xxxn't\" (e.g., don't, didn't etc.) from remove stopwords \"not\" and \"xxxn't\". This is to ensure these words are not excluded from the final review text."
   ]
  },
  {
   "cell_type": "code",
   "execution_count": 46,
   "metadata": {
    "colab": {
     "base_uri": "https://localhost:8080/",
     "height": 166
    },
    "colab_type": "code",
    "executionInfo": {
     "elapsed": 638,
     "status": "error",
     "timestamp": 1582512652893,
     "user": {
      "displayName": "Swati Vaishampayan",
      "photoUrl": "",
      "userId": "00052894265691719298"
     },
     "user_tz": 480
    },
    "id": "isZT54C57v9F",
    "outputId": "d4f972c1-ca67-4ad7-fc7b-c848b57cbadd"
   },
   "outputs": [],
   "source": [
    "# lower case\n",
    "reviews[\"reviewText\"] = reviews[\"reviewText\"].apply(str.lower)"
   ]
  },
  {
   "cell_type": "code",
   "execution_count": 47,
   "metadata": {
    "colab": {},
    "colab_type": "code",
    "id": "oBTZEAv3733-",
    "outputId": "a9ac240f-ccc5-4640-80d7-5f69ce6eef41"
   },
   "outputs": [
    {
     "name": "stderr",
     "output_type": "stream",
     "text": [
      "[nltk_data] Downloading package stopwords to\n",
      "[nltk_data]     C:\\Users\\boyas\\AppData\\Roaming\\nltk_data...\n",
      "[nltk_data]   Package stopwords is already up-to-date!\n"
     ]
    }
   ],
   "source": [
    "# load stopwords\n",
    "nltk.download('stopwords')\n",
    "stops = stopwords.words('english')"
   ]
  },
  {
   "cell_type": "code",
   "execution_count": 48,
   "metadata": {
    "colab": {},
    "colab_type": "code",
    "id": "crR0NgLLFnt4"
   },
   "outputs": [],
   "source": [
    "# remove \"not\" and \"xxxn't\" from stopwords\n",
    "rx_not = re.compile(r'not')\n",
    "rx_nt = re.compile(r\"[a-z]+n't\")\n",
    "stops = [i for i in stops if not rx_not.match(i) and not rx_nt.match(i)]\n",
    "stops = set(stops)"
   ]
  },
  {
   "cell_type": "code",
   "execution_count": 49,
   "metadata": {
    "colab": {},
    "colab_type": "code",
    "id": "d8c2b68L74-a"
   },
   "outputs": [],
   "source": [
    "# remove stopwords\n",
    "reviews[\"reviewText\"] = reviews[\"reviewText\"].apply(lambda x: ' '.join([item for item in x.split() if item not in stops]))"
   ]
  },
  {
   "cell_type": "markdown",
   "metadata": {
    "colab_type": "text",
    "id": "dwKejhGZ77GJ"
   },
   "source": [
    "#### 1.2 Handle Negations"
   ]
  },
  {
   "cell_type": "markdown",
   "metadata": {
    "colab_type": "text",
    "id": "KhIf1USR_bmv"
   },
   "source": [
    "- Look for the following two negations: \"not\" and \"xxxn't\". Split off the \"n't\" part from \"xxxn't\" into separate words \"xxx\" and \"not\". \n",
    "- Attach all 'not's (any normal \"not\" appearing in the text as well as the \"n't\" converted to \"not\") to the subsequent word, eg \"not_nextword\"."
   ]
  },
  {
   "cell_type": "code",
   "execution_count": 50,
   "metadata": {
    "colab": {},
    "colab_type": "code",
    "id": "trFJk0bW79FD"
   },
   "outputs": [],
   "source": [
    "reviews[\"reviewText\"] = reviews[\"reviewText\"].apply(lambda x: re.sub(r\"(not)(\\s)(\\w+)\",r\"not_\\3\",str(x)))\n",
    "reviews[\"reviewText\"] = reviews[\"reviewText\"].apply(lambda x: re.sub(r\"(\\s)([a-z]*)(n't)(\\s)(\\w+)\",r\"\\1not_\\5\",str(x)))"
   ]
  },
  {
   "cell_type": "code",
   "execution_count": 51,
   "metadata": {
    "colab": {},
    "colab_type": "code",
    "id": "j3Fr1Bak7-fl",
    "outputId": "2445802c-3355-4979-f40d-5d8bcd1be5a2"
   },
   "outputs": [
    {
     "data": {
      "text/plain": [
       "'so, use charge ipod car fm transmission horrible distracting frustrating listen driving. open remove inductor see get better fm signal.now tried fm transmitter, not_think ever good enough frustration free long distance driving ipod listening. best thing aux line, 2006 corolla not_one. time new car. ha!'"
      ]
     },
     "execution_count": 51,
     "metadata": {},
     "output_type": "execute_result"
    }
   ],
   "source": [
    "# take a look at an example of the result\n",
    "reviews[\"reviewText\"][8]"
   ]
  },
  {
   "cell_type": "markdown",
   "metadata": {
    "colab_type": "text",
    "id": "KEz8IsUk8ACE"
   },
   "source": [
    "#### 1.3 Stemming\n",
    "Stem all words using Porter 1979 (use package to do this)."
   ]
  },
  {
   "cell_type": "code",
   "execution_count": 52,
   "metadata": {
    "colab": {},
    "colab_type": "code",
    "id": "K_97GGHA8D9T"
   },
   "outputs": [],
   "source": [
    "ps = PorterStemmer() "
   ]
  },
  {
   "cell_type": "code",
   "execution_count": 53,
   "metadata": {
    "colab": {},
    "colab_type": "code",
    "id": "OpKbhVUp8FNU"
   },
   "outputs": [],
   "source": [
    "# stem words\n",
    "reviews[\"reviewText\"] = reviews[\"reviewText\"].apply(lambda x: ' '.join([ps.stem(item) for item in x.split()]))"
   ]
  },
  {
   "cell_type": "code",
   "execution_count": 54,
   "metadata": {
    "colab": {},
    "colab_type": "code",
    "id": "uDw3DP6H8Gnu",
    "outputId": "e0841a38-a1ac-4ab8-da09-e8b2ebdfe43a"
   },
   "outputs": [
    {
     "data": {
      "text/plain": [
       "'corey barker great job explain blend mode dvd. kelbi train video great pricey buy individually. realli want bang buck subscrib kelbi train online.'"
      ]
     },
     "execution_count": 54,
     "metadata": {},
     "output_type": "execute_result"
    }
   ],
   "source": [
    "# take a look at an example of the result\n",
    "reviews[\"reviewText\"][0]"
   ]
  },
  {
   "cell_type": "markdown",
   "metadata": {
    "colab_type": "text",
    "id": "PfcT1unv_XQR"
   },
   "source": [
    "#### 1.4 Frequency count\n",
    "- Create frequency count table for all word stems in all reviews. Use the most frequent 500 words to define the word vector. \n",
    "- Create a bag-of-word vector representation for each review. Each row represents a review text."
   ]
  },
  {
   "cell_type": "code",
   "execution_count": 55,
   "metadata": {
    "colab": {},
    "colab_type": "code",
    "id": "RK95knjC_Xhf"
   },
   "outputs": [],
   "source": [
    "# tokenize\n",
    "reviews[\"reviewText\"] = reviews[\"reviewText\"].apply(lambda x: nltk.word_tokenize(x))"
   ]
  },
  {
   "cell_type": "code",
   "execution_count": 56,
   "metadata": {
    "colab": {},
    "colab_type": "code",
    "id": "bU-R0QUNGfAp"
   },
   "outputs": [],
   "source": [
    "# remove apostrophes\n",
    "reviews[\"reviewText\"] = reviews[\"reviewText\"].apply(lambda x: \" \".join([word.strip(string.punctuation) for word in x]))"
   ]
  },
  {
   "cell_type": "code",
   "execution_count": 57,
   "metadata": {
    "colab": {},
    "colab_type": "code",
    "id": "GHCPXYOTGgaW"
   },
   "outputs": [],
   "source": [
    "# concat all words in all reviews\n",
    "words = reviews[\"reviewText\"].str.cat(sep=' ')"
   ]
  },
  {
   "cell_type": "code",
   "execution_count": 58,
   "metadata": {
    "colab": {},
    "colab_type": "code",
    "id": "OxHSdgpOGh4u"
   },
   "outputs": [],
   "source": [
    "# frequency count\n",
    "word_dist = nltk.FreqDist(words.split())"
   ]
  },
  {
   "cell_type": "code",
   "execution_count": 62,
   "metadata": {
    "colab": {},
    "colab_type": "code",
    "id": "kdkadgnNmm8V"
   },
   "outputs": [],
   "source": [
    "# most frequent 500 words\n",
    "most_freq = dict(word_dist.most_common(500))"
   ]
  },
  {
   "cell_type": "code",
   "execution_count": 66,
   "metadata": {},
   "outputs": [
    {
     "name": "stdout",
     "output_type": "stream",
     "text": [
      "Top 10 Frequent Words: \n",
      "{'use': 282651, 'work': 215975, 'one': 198732, 'great': 182637, 'i': 177194, 'would': 150331, 'get': 148237, 'good': 143308, 'it': 133868, 'like': 130561}\n"
     ]
    }
   ],
   "source": [
    "# printing result   \n",
    "top_10_freq = dict(itertools.islice(most_freq.items(), 10))         \n",
    "print(\"Top 10 Frequent Words: \\n\" + str(top_10_freq))  "
   ]
  },
  {
   "cell_type": "code",
   "execution_count": 68,
   "metadata": {
    "colab": {},
    "colab_type": "code",
    "id": "EZm1PAlgmoBA"
   },
   "outputs": [
    {
     "data": {
      "text/html": [
       "<div>\n",
       "<style scoped>\n",
       "    .dataframe tbody tr th:only-of-type {\n",
       "        vertical-align: middle;\n",
       "    }\n",
       "\n",
       "    .dataframe tbody tr th {\n",
       "        vertical-align: top;\n",
       "    }\n",
       "\n",
       "    .dataframe thead th {\n",
       "        text-align: right;\n",
       "    }\n",
       "</style>\n",
       "<table border=\"1\" class=\"dataframe\">\n",
       "  <thead>\n",
       "    <tr style=\"text-align: right;\">\n",
       "      <th></th>\n",
       "      <th>0</th>\n",
       "      <th>1</th>\n",
       "      <th>2</th>\n",
       "      <th>3</th>\n",
       "      <th>4</th>\n",
       "      <th>5</th>\n",
       "      <th>6</th>\n",
       "      <th>7</th>\n",
       "      <th>8</th>\n",
       "      <th>9</th>\n",
       "      <th>...</th>\n",
       "      <th>490</th>\n",
       "      <th>491</th>\n",
       "      <th>492</th>\n",
       "      <th>493</th>\n",
       "      <th>494</th>\n",
       "      <th>495</th>\n",
       "      <th>496</th>\n",
       "      <th>497</th>\n",
       "      <th>498</th>\n",
       "      <th>499</th>\n",
       "    </tr>\n",
       "  </thead>\n",
       "  <tbody>\n",
       "    <tr>\n",
       "      <th>0</th>\n",
       "      <td>0</td>\n",
       "      <td>0</td>\n",
       "      <td>0</td>\n",
       "      <td>0</td>\n",
       "      <td>0</td>\n",
       "      <td>0</td>\n",
       "      <td>0</td>\n",
       "      <td>0</td>\n",
       "      <td>0</td>\n",
       "      <td>0</td>\n",
       "      <td>...</td>\n",
       "      <td>0</td>\n",
       "      <td>0</td>\n",
       "      <td>0</td>\n",
       "      <td>0</td>\n",
       "      <td>0</td>\n",
       "      <td>0</td>\n",
       "      <td>0</td>\n",
       "      <td>0</td>\n",
       "      <td>0</td>\n",
       "      <td>0</td>\n",
       "    </tr>\n",
       "    <tr>\n",
       "      <th>1</th>\n",
       "      <td>0</td>\n",
       "      <td>0</td>\n",
       "      <td>0</td>\n",
       "      <td>0</td>\n",
       "      <td>0</td>\n",
       "      <td>0</td>\n",
       "      <td>0</td>\n",
       "      <td>0</td>\n",
       "      <td>0</td>\n",
       "      <td>0</td>\n",
       "      <td>...</td>\n",
       "      <td>0</td>\n",
       "      <td>2</td>\n",
       "      <td>0</td>\n",
       "      <td>0</td>\n",
       "      <td>0</td>\n",
       "      <td>1</td>\n",
       "      <td>0</td>\n",
       "      <td>0</td>\n",
       "      <td>0</td>\n",
       "      <td>0</td>\n",
       "    </tr>\n",
       "    <tr>\n",
       "      <th>2</th>\n",
       "      <td>0</td>\n",
       "      <td>0</td>\n",
       "      <td>0</td>\n",
       "      <td>0</td>\n",
       "      <td>0</td>\n",
       "      <td>0</td>\n",
       "      <td>0</td>\n",
       "      <td>0</td>\n",
       "      <td>0</td>\n",
       "      <td>0</td>\n",
       "      <td>...</td>\n",
       "      <td>0</td>\n",
       "      <td>0</td>\n",
       "      <td>0</td>\n",
       "      <td>0</td>\n",
       "      <td>0</td>\n",
       "      <td>0</td>\n",
       "      <td>0</td>\n",
       "      <td>0</td>\n",
       "      <td>0</td>\n",
       "      <td>0</td>\n",
       "    </tr>\n",
       "    <tr>\n",
       "      <th>3</th>\n",
       "      <td>0</td>\n",
       "      <td>0</td>\n",
       "      <td>0</td>\n",
       "      <td>0</td>\n",
       "      <td>0</td>\n",
       "      <td>0</td>\n",
       "      <td>0</td>\n",
       "      <td>0</td>\n",
       "      <td>0</td>\n",
       "      <td>0</td>\n",
       "      <td>...</td>\n",
       "      <td>0</td>\n",
       "      <td>4</td>\n",
       "      <td>0</td>\n",
       "      <td>0</td>\n",
       "      <td>0</td>\n",
       "      <td>1</td>\n",
       "      <td>0</td>\n",
       "      <td>0</td>\n",
       "      <td>0</td>\n",
       "      <td>0</td>\n",
       "    </tr>\n",
       "    <tr>\n",
       "      <th>4</th>\n",
       "      <td>0</td>\n",
       "      <td>0</td>\n",
       "      <td>0</td>\n",
       "      <td>0</td>\n",
       "      <td>0</td>\n",
       "      <td>0</td>\n",
       "      <td>0</td>\n",
       "      <td>0</td>\n",
       "      <td>0</td>\n",
       "      <td>0</td>\n",
       "      <td>...</td>\n",
       "      <td>1</td>\n",
       "      <td>1</td>\n",
       "      <td>0</td>\n",
       "      <td>0</td>\n",
       "      <td>0</td>\n",
       "      <td>0</td>\n",
       "      <td>0</td>\n",
       "      <td>0</td>\n",
       "      <td>0</td>\n",
       "      <td>0</td>\n",
       "    </tr>\n",
       "  </tbody>\n",
       "</table>\n",
       "<p>5 rows × 500 columns</p>\n",
       "</div>"
      ],
      "text/plain": [
       "   0    1    2    3    4    5    6    7    8    9    ...  490  491  492  493  \\\n",
       "0    0    0    0    0    0    0    0    0    0    0  ...    0    0    0    0   \n",
       "1    0    0    0    0    0    0    0    0    0    0  ...    0    2    0    0   \n",
       "2    0    0    0    0    0    0    0    0    0    0  ...    0    0    0    0   \n",
       "3    0    0    0    0    0    0    0    0    0    0  ...    0    4    0    0   \n",
       "4    0    0    0    0    0    0    0    0    0    0  ...    1    1    0    0   \n",
       "\n",
       "   494  495  496  497  498  499  \n",
       "0    0    0    0    0    0    0  \n",
       "1    0    1    0    0    0    0  \n",
       "2    0    0    0    0    0    0  \n",
       "3    0    1    0    0    0    0  \n",
       "4    0    0    0    0    0    0  \n",
       "\n",
       "[5 rows x 500 columns]"
      ]
     },
     "execution_count": 68,
     "metadata": {},
     "output_type": "execute_result"
    }
   ],
   "source": [
    "# bag-of-word vector\n",
    "# each row represents a reviewtext\n",
    "vectorizer = CountVectorizer(most_freq, max_features = 500)\n",
    "bow_vector = vectorizer.fit_transform(reviews[\"reviewText\"]).toarray()\n",
    "pd.DataFrame(bow_vector).head() "
   ]
  },
  {
   "cell_type": "markdown",
   "metadata": {
    "colab_type": "text",
    "id": "a7EpYul5eG8K"
   },
   "source": [
    "Measure the Euclidean distance between different reviews. Print the mutual distance between the first 100 reviews (review IDs) to screen, sorted from closest to furthest."
   ]
  },
  {
   "cell_type": "code",
   "execution_count": 69,
   "metadata": {
    "colab": {},
    "colab_type": "code",
    "id": "ka3riuZSFnud"
   },
   "outputs": [],
   "source": [
    "first_100 = pd.DataFrame(bow_vector).loc[0:99]\n",
    "dist_euclid = scipydist.pdist(first_100, metric='euclidean')\n",
    "dist_euclid= np.sort(dist_euclid)\n",
    "dist_euclid_df = pd.DataFrame(scipydist.squareform(dist_euclid))"
   ]
  },
  {
   "cell_type": "code",
   "execution_count": 71,
   "metadata": {
    "colab": {},
    "colab_type": "code",
    "id": "A2YOFmX2Fnuj",
    "outputId": "a1da889c-927f-41ae-b87a-cb18fc8c381e"
   },
   "outputs": [
    {
     "data": {
      "text/html": [
       "<div>\n",
       "<style scoped>\n",
       "    .dataframe tbody tr th:only-of-type {\n",
       "        vertical-align: middle;\n",
       "    }\n",
       "\n",
       "    .dataframe tbody tr th {\n",
       "        vertical-align: top;\n",
       "    }\n",
       "\n",
       "    .dataframe thead th {\n",
       "        text-align: right;\n",
       "    }\n",
       "</style>\n",
       "<table border=\"1\" class=\"dataframe\">\n",
       "  <thead>\n",
       "    <tr style=\"text-align: right;\">\n",
       "      <th></th>\n",
       "      <th>0</th>\n",
       "      <th>1</th>\n",
       "      <th>2</th>\n",
       "      <th>3</th>\n",
       "      <th>4</th>\n",
       "      <th>5</th>\n",
       "      <th>6</th>\n",
       "      <th>7</th>\n",
       "      <th>8</th>\n",
       "      <th>9</th>\n",
       "      <th>...</th>\n",
       "      <th>90</th>\n",
       "      <th>91</th>\n",
       "      <th>92</th>\n",
       "      <th>93</th>\n",
       "      <th>94</th>\n",
       "      <th>95</th>\n",
       "      <th>96</th>\n",
       "      <th>97</th>\n",
       "      <th>98</th>\n",
       "      <th>99</th>\n",
       "    </tr>\n",
       "  </thead>\n",
       "  <tbody>\n",
       "    <tr>\n",
       "      <th>0</th>\n",
       "      <td>0.000000</td>\n",
       "      <td>2.449490</td>\n",
       "      <td>2.449490</td>\n",
       "      <td>2.645751</td>\n",
       "      <td>2.645751</td>\n",
       "      <td>2.645751</td>\n",
       "      <td>2.828427</td>\n",
       "      <td>3.000000</td>\n",
       "      <td>3.000000</td>\n",
       "      <td>3.000000</td>\n",
       "      <td>...</td>\n",
       "      <td>3.464102</td>\n",
       "      <td>3.464102</td>\n",
       "      <td>3.464102</td>\n",
       "      <td>3.464102</td>\n",
       "      <td>3.464102</td>\n",
       "      <td>3.464102</td>\n",
       "      <td>3.464102</td>\n",
       "      <td>3.464102</td>\n",
       "      <td>3.464102</td>\n",
       "      <td>3.464102</td>\n",
       "    </tr>\n",
       "    <tr>\n",
       "      <th>1</th>\n",
       "      <td>2.449490</td>\n",
       "      <td>0.000000</td>\n",
       "      <td>3.464102</td>\n",
       "      <td>3.464102</td>\n",
       "      <td>3.464102</td>\n",
       "      <td>3.464102</td>\n",
       "      <td>3.464102</td>\n",
       "      <td>3.464102</td>\n",
       "      <td>3.464102</td>\n",
       "      <td>3.605551</td>\n",
       "      <td>...</td>\n",
       "      <td>3.741657</td>\n",
       "      <td>3.741657</td>\n",
       "      <td>3.741657</td>\n",
       "      <td>3.741657</td>\n",
       "      <td>3.741657</td>\n",
       "      <td>3.741657</td>\n",
       "      <td>3.741657</td>\n",
       "      <td>3.741657</td>\n",
       "      <td>3.741657</td>\n",
       "      <td>3.741657</td>\n",
       "    </tr>\n",
       "    <tr>\n",
       "      <th>2</th>\n",
       "      <td>2.449490</td>\n",
       "      <td>3.464102</td>\n",
       "      <td>0.000000</td>\n",
       "      <td>3.741657</td>\n",
       "      <td>3.741657</td>\n",
       "      <td>3.741657</td>\n",
       "      <td>3.741657</td>\n",
       "      <td>3.741657</td>\n",
       "      <td>3.741657</td>\n",
       "      <td>3.741657</td>\n",
       "      <td>...</td>\n",
       "      <td>4.000000</td>\n",
       "      <td>4.000000</td>\n",
       "      <td>4.000000</td>\n",
       "      <td>4.000000</td>\n",
       "      <td>4.000000</td>\n",
       "      <td>4.000000</td>\n",
       "      <td>4.000000</td>\n",
       "      <td>4.000000</td>\n",
       "      <td>4.000000</td>\n",
       "      <td>4.000000</td>\n",
       "    </tr>\n",
       "    <tr>\n",
       "      <th>3</th>\n",
       "      <td>2.645751</td>\n",
       "      <td>3.464102</td>\n",
       "      <td>3.741657</td>\n",
       "      <td>0.000000</td>\n",
       "      <td>4.000000</td>\n",
       "      <td>4.000000</td>\n",
       "      <td>4.000000</td>\n",
       "      <td>4.000000</td>\n",
       "      <td>4.000000</td>\n",
       "      <td>4.000000</td>\n",
       "      <td>...</td>\n",
       "      <td>4.242641</td>\n",
       "      <td>4.242641</td>\n",
       "      <td>4.242641</td>\n",
       "      <td>4.242641</td>\n",
       "      <td>4.242641</td>\n",
       "      <td>4.242641</td>\n",
       "      <td>4.242641</td>\n",
       "      <td>4.242641</td>\n",
       "      <td>4.242641</td>\n",
       "      <td>4.242641</td>\n",
       "    </tr>\n",
       "    <tr>\n",
       "      <th>4</th>\n",
       "      <td>2.645751</td>\n",
       "      <td>3.464102</td>\n",
       "      <td>3.741657</td>\n",
       "      <td>4.000000</td>\n",
       "      <td>0.000000</td>\n",
       "      <td>4.242641</td>\n",
       "      <td>4.242641</td>\n",
       "      <td>4.242641</td>\n",
       "      <td>4.242641</td>\n",
       "      <td>4.242641</td>\n",
       "      <td>...</td>\n",
       "      <td>4.358899</td>\n",
       "      <td>4.358899</td>\n",
       "      <td>4.358899</td>\n",
       "      <td>4.358899</td>\n",
       "      <td>4.358899</td>\n",
       "      <td>4.358899</td>\n",
       "      <td>4.358899</td>\n",
       "      <td>4.358899</td>\n",
       "      <td>4.358899</td>\n",
       "      <td>4.358899</td>\n",
       "    </tr>\n",
       "  </tbody>\n",
       "</table>\n",
       "<p>5 rows × 100 columns</p>\n",
       "</div>"
      ],
      "text/plain": [
       "         0         1         2         3         4         5         6   \\\n",
       "0  0.000000  2.449490  2.449490  2.645751  2.645751  2.645751  2.828427   \n",
       "1  2.449490  0.000000  3.464102  3.464102  3.464102  3.464102  3.464102   \n",
       "2  2.449490  3.464102  0.000000  3.741657  3.741657  3.741657  3.741657   \n",
       "3  2.645751  3.464102  3.741657  0.000000  4.000000  4.000000  4.000000   \n",
       "4  2.645751  3.464102  3.741657  4.000000  0.000000  4.242641  4.242641   \n",
       "\n",
       "         7         8         9   ...        90        91        92        93  \\\n",
       "0  3.000000  3.000000  3.000000  ...  3.464102  3.464102  3.464102  3.464102   \n",
       "1  3.464102  3.464102  3.605551  ...  3.741657  3.741657  3.741657  3.741657   \n",
       "2  3.741657  3.741657  3.741657  ...  4.000000  4.000000  4.000000  4.000000   \n",
       "3  4.000000  4.000000  4.000000  ...  4.242641  4.242641  4.242641  4.242641   \n",
       "4  4.242641  4.242641  4.242641  ...  4.358899  4.358899  4.358899  4.358899   \n",
       "\n",
       "         94        95        96        97        98        99  \n",
       "0  3.464102  3.464102  3.464102  3.464102  3.464102  3.464102  \n",
       "1  3.741657  3.741657  3.741657  3.741657  3.741657  3.741657  \n",
       "2  4.000000  4.000000  4.000000  4.000000  4.000000  4.000000  \n",
       "3  4.242641  4.242641  4.242641  4.242641  4.242641  4.242641  \n",
       "4  4.358899  4.358899  4.358899  4.358899  4.358899  4.358899  \n",
       "\n",
       "[5 rows x 100 columns]"
      ]
     },
     "execution_count": 71,
     "metadata": {},
     "output_type": "execute_result"
    }
   ],
   "source": [
    "dist_euclid_df.head()"
   ]
  },
  {
   "cell_type": "markdown",
   "metadata": {
    "colab_type": "text",
    "id": "2BnlFcs_Fnul"
   },
   "source": [
    "#### Part 2 \n",
    "Run a PCA (Principal component analysis) and graph the first two PCs for the first 100 reviews."
   ]
  },
  {
   "cell_type": "code",
   "execution_count": 72,
   "metadata": {
    "colab": {},
    "colab_type": "code",
    "id": "1KA890K5Fnun"
   },
   "outputs": [
    {
     "data": {
      "image/png": "[encoded data removed]",
      "text/plain": [
       "<Figure size 432x432 with 1 Axes>"
      ]
     },
     "metadata": {
      "needs_background": "light"
     },
     "output_type": "display_data"
    }
   ],
   "source": [
    "x = StandardScaler().fit_transform(first_100)\n",
    "pca = PCA(n_components=2)\n",
    "principalComponents = pca.fit_transform(x)\n",
    "principalDf = pd.DataFrame(data = principalComponents\n",
    "             , columns = ['principal component 1', 'principal component 2'])\n",
    "fig, ax = plt.subplots(figsize=(6,6))\n",
    "ax.scatter(principalDf['principal component 1'], principalDf['principal component 2'])\n",
    "plt.xlabel('principal feature1')\n",
    "plt.ylabel('principal feature2')\n",
    "plt.show();"
   ]
  },
  {
   "cell_type": "code",
   "execution_count": 73,
   "metadata": {
    "colab": {},
    "colab_type": "code",
    "id": "cScvARF1Fnuw",
    "outputId": "33903cb1-6279-4fdb-f402-5e569e2fb9f7",
    "scrolled": true
   },
   "outputs": [
    {
     "data": {
      "image/png": "[encoded data removed]",
      "text/plain": [
       "<Figure size 432x432 with 1 Axes>"
      ]
     },
     "metadata": {
      "needs_background": "light"
     },
     "output_type": "display_data"
    }
   ],
   "source": [
    "# Zoom-in\n",
    "fig, ax = plt.subplots(figsize=(6,6))\n",
    "ax.scatter(principalDf['principal component 1'], principalDf['principal component 2'])\n",
    "plt.xlabel('principal feature1')\n",
    "plt.ylabel('principal feature2')\n",
    "plt.ylim(-15,15)\n",
    "plt.xlim(-15,15)\n",
    "plt.show();"
   ]
  },
  {
   "cell_type": "markdown",
   "metadata": {
    "colab_type": "text",
    "id": "C8jYXPnnVTeo"
   },
   "source": [
    "From the graph, we see most of the points have PCA 1 , 2 ranging from -5 to 5. In 1.4, we find that Euclidean distance between reviews range from 2.45 to 33.0. Consider that we have 500 words, the range is quite small. This is also reflected in the PCA plot where the points are clustered and the first component explains most of the variation.  \n",
    " "
   ]
  },
  {
   "cell_type": "markdown",
   "metadata": {
    "colab_type": "text",
    "id": "JR1rVeLLFnuy"
   },
   "source": [
    "#### Part 3\n",
    "- Use logistic regression to predict the rating (5 levels) of a product. Rating is an ordinal variable.\n",
    "- Measure the out-of-sample accuracy of the prediction."
   ]
  },
  {
   "cell_type": "code",
   "execution_count": 75,
   "metadata": {
    "colab": {},
    "colab_type": "code",
    "id": "Rt72WKH1Fnuz"
   },
   "outputs": [],
   "source": [
    "y = reviews[\"overall\"].astype(int)\n",
    "x_bow = StandardScaler().fit_transform(pd.DataFrame(bow_vector))\n",
    "x_bow = pd.DataFrame(x_bow)"
   ]
  },
  {
   "cell_type": "code",
   "execution_count": 78,
   "metadata": {
    "colab": {},
    "colab_type": "code",
    "id": "L6KjhZl3Fnu3",
    "outputId": "89d6fdbf-7cbd-4e58-8a96-ade2c3b735f0"
   },
   "outputs": [
    {
     "name": "stdout",
     "output_type": "stream",
     "text": [
      "Ordered logistic regression (train/test split: 9/1):  0.5260730612079777\n"
     ]
    }
   ],
   "source": [
    "x_bow_train,x_bow_test,y_train,y_test=train_test_split(x_bow, y, test_size=0.1, random_state=31)\n",
    "ordlogit_lasso = LogisticAT(alpha=1)\n",
    "ordlogit_lasso.fit(x_bow_train, y_train)\n",
    "ordlogit_lasso_predictions = ordlogit_lasso.predict(x_bow_test)\n",
    "accuracy = accuracy_score(y_test, ordlogit_lasso_predictions)\n",
    "print('Ordered logistic regression (train/test split: 9/1): ', accuracy)"
   ]
  },
  {
   "cell_type": "code",
   "execution_count": 79,
   "metadata": {
    "colab": {},
    "colab_type": "code",
    "id": "rz1nt36FFnu6",
    "outputId": "180da0ab-3590-4f68-d8b0-dc915223dd6d"
   },
   "outputs": [
    {
     "name": "stdout",
     "output_type": "stream",
     "text": [
      "Ordered logistic regression (3-fold cv):  0.5220936418453274\n"
     ]
    }
   ],
   "source": [
    "acc = make_scorer(accuracy_score)\n",
    "accuracy_cv = cross_val_score(ordlogit_lasso, x_bow, y, cv = 3, scoring=acc)\n",
    "print('Ordered logistic regression (3-fold cv): ', np.mean(accuracy_cv))"
   ]
  },
  {
   "cell_type": "markdown",
   "metadata": {
    "colab_type": "text",
    "id": "FSptvLK7QAcx"
   },
   "source": [
    "Thus Out of Sample accuracy for logistic model = **52%**"
   ]
  }
 ],
 "metadata": {
  "colab": {
   "collapsed_sections": [],
   "name": "ML_HW6-Group4-Section1.ipynb",
   "provenance": []
  },
  "kernelspec": {
   "display_name": "Python 3",
   "language": "python",
   "name": "python3"
  },
  "language_info": {
   "codemirror_mode": {
    "name": "ipython",
    "version": 3
   },
   "file_extension": ".py",
   "mimetype": "text/x-python",
   "name": "python",
   "nbconvert_exporter": "python",
   "pygments_lexer": "ipython3",
   "version": "3.7.3"
  }
 },
 "nbformat": 4,
 "nbformat_minor": 1
}
